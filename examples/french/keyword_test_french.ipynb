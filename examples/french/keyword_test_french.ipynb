{
 "cells": [
  {
   "cell_type": "code",
   "execution_count": 6,
   "metadata": {},
   "outputs": [],
   "source": [
    "from distinct_keywords.keywords import DistinctKeywords "
   ]
  },
  {
   "cell_type": "code",
   "execution_count": 7,
   "metadata": {},
   "outputs": [],
   "source": [
    "doc = \"\"\"\n",
    "L'apprentissage automatique comporte généralement deux phases. La première consiste à estimer un modèle à partir de données, \n",
    "appelées observations, qui sont disponibles et en nombre fini, lors de la phase de conception du système. \n",
    "L'estimation du modèle consiste à résoudre une tâche pratique, telle que traduire un discours, estimer une densité de probabilité,\n",
    " reconnaître la présence d'un chat dans une photographie ou participer à la conduite d'un véhicule autonome. \n",
    " Cette phase dite « d'apprentissage » ou « d'entraînement » est généralement réalisée préalablement à l'utilisation pratique du modèle. \n",
    " La seconde phase correspond à la mise en production : le modèle étant déterminé, de nouvelles données peuvent alors être soumises afin \n",
    " d'obtenir le résultat correspondant à la tâche souhaitée. En pratique, certains systèmes peuvent poursuivre leur apprentissage une fois \n",
    " en production, pour peu qu'ils aient un moyen d'obtenir un retour sur la qualité des résultats produits.\n",
    "\n",
    "Selon les informations disponibles durant la phase d'apprentissage, l'apprentissage est qualifié de différentes manières. \n",
    "Si les données sont étiquetées (c'est-à-dire que la réponse à la tâche est connue pour ces données), il s'agit d'un apprentissage supervisé. \n",
    "On parle de classification ou de classement3 si les étiquettes sont discrètes, ou de régression si elles sont continues. \n",
    "Si le modèle est appris de manière incrémentale en fonction d'une récompense reçue par le programme pour chacune des actions entreprises, \n",
    "on parle d'apprentissage par renforcement. Dans le cas le plus général, sans étiquette, on cherche à déterminer la structure sous-jacente \n",
    "des données (qui peuvent être une densité de probabilité) et il s'agit alors d'apprentissage non supervisé. L'apprentissage automatique peut \n",
    "être appliqué à différents types de données, tels des graphes, des arbres, des courbes, ou plus simplement des vecteurs de caractéristiques, \n",
    "qui peuvent être des variables qualitatives ou quantitatives continues ou discrètes. \n",
    "\n",
    "\n",
    "   \"\"\""
   ]
  },
  {
   "cell_type": "code",
   "execution_count": 8,
   "metadata": {},
   "outputs": [],
   "source": [
    "distinct_keywords=DistinctKeywords(keyword_dictionary_file='hilbert_lookup_dictionary_fr_700.pickle.gz',\n",
    "keyword_processor_file='keyword_processor_fr.pickle.gz',stop_words_set_file='stopwords_fr.pickle'\n",
    ")"
   ]
  },
  {
   "cell_type": "code",
   "execution_count": 10,
   "metadata": {},
   "outputs": [
    {
     "data": {
      "text/plain": [
       "['disponibles',\n",
       " 'quantitatives',\n",
       " 'probabilité',\n",
       " 'phases',\n",
       " 'systèmes',\n",
       " 'photographie',\n",
       " 'types',\n",
       " 'automatique',\n",
       " 'appliqué',\n",
       " 'cherche',\n",
       " 'entreprises',\n",
       " 'nouvelles',\n",
       " 'véhicule',\n",
       " 'étiquettes',\n",
       " 'connue',\n",
       " 'fini',\n",
       " 'continues',\n",
       " 'renforcement',\n",
       " 'caractéristiques',\n",
       " 'arbres',\n",
       " 'incrémentale',\n",
       " 'variables',\n",
       " 'manières',\n",
       " 'produits',\n",
       " 'soumises',\n",
       " 'données',\n",
       " 'qualifié',\n",
       " 'étiquette',\n",
       " 'récompense']"
      ]
     },
     "execution_count": 10,
     "metadata": {},
     "output_type": "execute_result"
    }
   ],
   "source": [
    "distinct_keywords.get_keywords(doc,include_proper_nouns=False) # include proper nouns is not tested for German"
   ]
  },
  {
   "cell_type": "code",
   "execution_count": null,
   "metadata": {},
   "outputs": [],
   "source": []
  }
 ],
 "metadata": {
  "interpreter": {
   "hash": "baebee85a6a5ce183746db7cbadba59f5359f85ffa5f21f19dadb99a211b8bb3"
  },
  "kernelspec": {
   "display_name": "Python 3.8.12 ('nlp-1')",
   "language": "python",
   "name": "python3"
  },
  "language_info": {
   "codemirror_mode": {
    "name": "ipython",
    "version": 3
   },
   "file_extension": ".py",
   "mimetype": "text/x-python",
   "name": "python",
   "nbconvert_exporter": "python",
   "pygments_lexer": "ipython3",
   "version": "3.8.12"
  },
  "orig_nbformat": 4
 },
 "nbformat": 4,
 "nbformat_minor": 2
}
