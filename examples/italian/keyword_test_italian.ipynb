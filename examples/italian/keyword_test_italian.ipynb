{
 "cells": [
  {
   "cell_type": "code",
   "execution_count": 1,
   "metadata": {},
   "outputs": [],
   "source": [
    "from distinct_keywords.keywords import DistinctKeywords "
   ]
  },
  {
   "cell_type": "code",
   "execution_count": 2,
   "metadata": {},
   "outputs": [],
   "source": [
    "doc = \"\"\"\n",
    "L'apprendimento automatico si sviluppa con lo studio dell'intelligenza artificiale, e vi è strettamente collegato: \n",
    "infatti già dai primi tentativi di definire l'intelligenza artificiale come disciplina accademica, alcuni ricercatori si \n",
    "erano mostrati interessati alla possibilità che le macchine imparassero dai dati. \n",
    "Questi ricercatori, in particolare Marvin Minsky, Arthur Samuel e Frank Rosenblatt, provarono ad avvicinarsi al problema \n",
    "sia attraverso vari metodi formali, sia con quelle che vengono definite reti neurali nei tardi anni '50. Le reti neurali erano \n",
    "allora costituite da singoli percettroni e da modelli matematici derivati dal modello lineare generalizzato della statistica, \n",
    "come l'ADALINE di Widrow[8][9]. Si provò a sfruttare anche ragionamenti probabilistici, in particolare nelle diagnosi mediche automatiche[10].\n",
    "\n",
    "Sempre negli anni '50, Alan Turing propose l'idea di una macchina che apprende, ovvero in grado di imparare e dunque diventare intelligente. \n",
    "La proposta specifica di Turing anticipa gli algoritmi genetici[11]. Tuttavia già dalla metà degli anni '50 lo studio dell'intelligenza artificiale\n",
    " si stava concentrando su approcci logici di tipo knowledge-based, nota oggi sotto il nome di GOFAI, causando un distacco tra lo \n",
    " studio dell'IA e quello dell'apprendimento automatico. Sistemi di tipo probabilistico erano invasi di problemi sia teoretici sia pratici \n",
    " in termini di acquisizione e rappresentazione dei dati[10]. Negli anni Ottanta, i sistemi esperti dominavano il campo dell'IA, e i sistemi basati \n",
    " sulla statistica non venivano più studiati[12]. Lo studio dell'apprendimento simbolico e knowledge-based continuò nell'ambito dell'IA, portando a \n",
    " sviluppare la programmazione logica induttiva, ma ora la ricerca più prettamente statistica si svolgeva al di fuori del campo vero e proprio \n",
    " dell'intelligenza artificiale, nel riconoscimento di pattern e nell'information retrieval[10]. Un altro motivo per cui lo studio dell'apprendimento \n",
    " automatico fu abbandonato fu la pubblicazione del libro Perceptrons: an introduction to computational geometry di Marvin Minsky e \n",
    " Seymour Papert, che vi descrivevano alcune delle limitazioni dei percettroni e delle reti neurali. La ricerca sulle reti neurali \n",
    " subì un significativo rallentamento a causa dell'interpretazione del libro, che le descriveva come intrinsecamente limitate[13][14]. \n",
    " Anche la linea di ricerca sulle reti neurali continuò al di fuori del campo dell'IA, portata avanti da ricercatori provenienti da altre \n",
    " discipline quali Hopfield, Rumelhart, Hinton e Fukushima. Il loro successo principale fu a metà degli anni '80 con la riscoperta della \n",
    " backpropagation[10] e della self-organization[15].\n",
    "\n",
    "L'apprendimento automatico, sviluppatosi come campo di studi separato dall'IA classica, cominciò a rifiorire negli anni '90. \n",
    "Il suo obiettivo cambiò dall'ottenere l'intelligenza artificiale ad affrontare problemi risolvibili di natura pratica. \n",
    "Distolse inoltre la propria attenzione dagli approcci simbolici che aveva ereditato dall'IA, e si diresse verso metodi \n",
    "e modelli presi in prestito dalla statistica e dalla teoria della probabilità[12]. L'apprendimento automatico ha inoltre beneficiato \n",
    "dalla nascita di Internet, che ha reso l'informazione digitale più facilmente reperibile e distribuibile. \n",
    "\n",
    "   \"\"\"\n"
   ]
  },
  {
   "cell_type": "code",
   "execution_count": 3,
   "metadata": {},
   "outputs": [],
   "source": [
    "distinct_keywords=DistinctKeywords(keyword_dictionary_file='hilbert_lookup_dictionary_it.pickle.gz',\n",
    "keyword_processor_file='keyword_processor_it.pickle.gz',stop_words_set_file='stopwords_it.pickle',language='ita'\n",
    ")"
   ]
  },
  {
   "cell_type": "code",
   "execution_count": 5,
   "metadata": {},
   "outputs": [
    {
     "data": {
      "text/plain": [
       "['imparassero',\n",
       " 'simbolici',\n",
       " 'verso',\n",
       " 'pubblicazione',\n",
       " 'probabilistico',\n",
       " 'studiati',\n",
       " 'tardi',\n",
       " 'diresse',\n",
       " 'pattern',\n",
       " 'dati',\n",
       " 'vero',\n",
       " 'vi',\n",
       " 'statistica',\n",
       " 'riconoscimento',\n",
       " 'rallentamento',\n",
       " 'problemi']"
      ]
     },
     "execution_count": 5,
     "metadata": {},
     "output_type": "execute_result"
    }
   ],
   "source": [
    "distinct_keywords.get_keywords(doc,include_proper_nouns=False) # include proper nouns is not tested for italian"
   ]
  },
  {
   "cell_type": "code",
   "execution_count": null,
   "metadata": {},
   "outputs": [],
   "source": []
  }
 ],
 "metadata": {
  "interpreter": {
   "hash": "baebee85a6a5ce183746db7cbadba59f5359f85ffa5f21f19dadb99a211b8bb3"
  },
  "kernelspec": {
   "display_name": "Python 3.8.12 ('nlp-1')",
   "language": "python",
   "name": "python3"
  },
  "language_info": {
   "codemirror_mode": {
    "name": "ipython",
    "version": 3
   },
   "file_extension": ".py",
   "mimetype": "text/x-python",
   "name": "python",
   "nbconvert_exporter": "python",
   "pygments_lexer": "ipython3",
   "version": "3.8.12"
  },
  "orig_nbformat": 4
 },
 "nbformat": 4,
 "nbformat_minor": 2
}
